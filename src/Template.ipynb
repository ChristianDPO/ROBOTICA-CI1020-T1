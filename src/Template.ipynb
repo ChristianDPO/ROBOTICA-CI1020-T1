{
  "cells": [
    {
      "cell_type": "markdown",
      "metadata": {
        "id": "lVvy-8h78Gsw"
      },
      "source": [
        "## Load CIFAR-10"
      ]
    },
    {
      "cell_type": "code",
      "execution_count": 17,
      "metadata": {
        "id": "_8XqcEhfvPKT"
      },
      "outputs": [],
      "source": [
        "from keras.datasets import cifar10\n",
        "\n",
        "# Load the CIFAR-10 dataset\n",
        "(X_train, y_train), (X_test, y_test) = cifar10.load_data()"
      ]
    },
    {
      "cell_type": "markdown",
      "metadata": {
        "id": "XcWc7JY67bZc"
      },
      "source": [
        "## Reshape and normalize data"
      ]
    },
    {
      "cell_type": "code",
      "execution_count": 18,
      "metadata": {
        "id": "xuz5xiAS8F3b"
      },
      "outputs": [],
      "source": [
        "# Reshape images into 1D array\n",
        "X_train= X_train.reshape(X_train.shape[0], -1)\n",
        "X_test = X_test.reshape(X_test.shape[0], -1)\n",
        "\n",
        "# Normalize pixel values\n",
        "X_train = X_train.astype('float32') / 255.0\n",
        "X_test = X_test.astype('float32') / 255.0"
      ]
    },
    {
      "cell_type": "markdown",
      "metadata": {
        "id": "bMdUlink81Ap"
      },
      "source": [
        "## Create RandomForest Classifier\n",
        "\n"
      ]
    },
    {
      "cell_type": "code",
      "execution_count": 19,
      "metadata": {
        "id": "vF9HP7Ju-alN"
      },
      "outputs": [],
      "source": [
        "from sklearn.ensemble import RandomForestClassifier\n",
        "\n",
        "name = \"Random Forest\"\n",
        "model = RandomForestClassifier()"
      ]
    },
    {
      "cell_type": "markdown",
      "metadata": {
        "id": "CxhH0kg2_M6F"
      },
      "source": [
        "## Fit Model"
      ]
    },
    {
      "cell_type": "code",
      "execution_count": 20,
      "metadata": {
        "colab": {
          "base_uri": "https://localhost:8080/",
          "height": 109
        },
        "id": "sub-FO27_R6x",
        "outputId": "43125ba8-47f9-4bf1-c3ea-f41ad46eb370"
      },
      "outputs": [
        {
          "name": "stderr",
          "output_type": "stream",
          "text": [
            "<ipython-input-20-d768f88d541e>:1: DataConversionWarning: A column-vector y was passed when a 1d array was expected. Please change the shape of y to (n_samples,), for example using ravel().\n",
            "  model.fit(X_train, y_train)\n"
          ]
        },
        {
          "data": {
            "text/html": [
              "<style>#sk-container-id-2 {color: black;background-color: white;}#sk-container-id-2 pre{padding: 0;}#sk-container-id-2 div.sk-toggleable {background-color: white;}#sk-container-id-2 label.sk-toggleable__label {cursor: pointer;display: block;width: 100%;margin-bottom: 0;padding: 0.3em;box-sizing: border-box;text-align: center;}#sk-container-id-2 label.sk-toggleable__label-arrow:before {content: \"▸\";float: left;margin-right: 0.25em;color: #696969;}#sk-container-id-2 label.sk-toggleable__label-arrow:hover:before {color: black;}#sk-container-id-2 div.sk-estimator:hover label.sk-toggleable__label-arrow:before {color: black;}#sk-container-id-2 div.sk-toggleable__content {max-height: 0;max-width: 0;overflow: hidden;text-align: left;background-color: #f0f8ff;}#sk-container-id-2 div.sk-toggleable__content pre {margin: 0.2em;color: black;border-radius: 0.25em;background-color: #f0f8ff;}#sk-container-id-2 input.sk-toggleable__control:checked~div.sk-toggleable__content {max-height: 200px;max-width: 100%;overflow: auto;}#sk-container-id-2 input.sk-toggleable__control:checked~label.sk-toggleable__label-arrow:before {content: \"▾\";}#sk-container-id-2 div.sk-estimator input.sk-toggleable__control:checked~label.sk-toggleable__label {background-color: #d4ebff;}#sk-container-id-2 div.sk-label input.sk-toggleable__control:checked~label.sk-toggleable__label {background-color: #d4ebff;}#sk-container-id-2 input.sk-hidden--visually {border: 0;clip: rect(1px 1px 1px 1px);clip: rect(1px, 1px, 1px, 1px);height: 1px;margin: -1px;overflow: hidden;padding: 0;position: absolute;width: 1px;}#sk-container-id-2 div.sk-estimator {font-family: monospace;background-color: #f0f8ff;border: 1px dotted black;border-radius: 0.25em;box-sizing: border-box;margin-bottom: 0.5em;}#sk-container-id-2 div.sk-estimator:hover {background-color: #d4ebff;}#sk-container-id-2 div.sk-parallel-item::after {content: \"\";width: 100%;border-bottom: 1px solid gray;flex-grow: 1;}#sk-container-id-2 div.sk-label:hover label.sk-toggleable__label {background-color: #d4ebff;}#sk-container-id-2 div.sk-serial::before {content: \"\";position: absolute;border-left: 1px solid gray;box-sizing: border-box;top: 0;bottom: 0;left: 50%;z-index: 0;}#sk-container-id-2 div.sk-serial {display: flex;flex-direction: column;align-items: center;background-color: white;padding-right: 0.2em;padding-left: 0.2em;position: relative;}#sk-container-id-2 div.sk-item {position: relative;z-index: 1;}#sk-container-id-2 div.sk-parallel {display: flex;align-items: stretch;justify-content: center;background-color: white;position: relative;}#sk-container-id-2 div.sk-item::before, #sk-container-id-2 div.sk-parallel-item::before {content: \"\";position: absolute;border-left: 1px solid gray;box-sizing: border-box;top: 0;bottom: 0;left: 50%;z-index: -1;}#sk-container-id-2 div.sk-parallel-item {display: flex;flex-direction: column;z-index: 1;position: relative;background-color: white;}#sk-container-id-2 div.sk-parallel-item:first-child::after {align-self: flex-end;width: 50%;}#sk-container-id-2 div.sk-parallel-item:last-child::after {align-self: flex-start;width: 50%;}#sk-container-id-2 div.sk-parallel-item:only-child::after {width: 0;}#sk-container-id-2 div.sk-dashed-wrapped {border: 1px dashed gray;margin: 0 0.4em 0.5em 0.4em;box-sizing: border-box;padding-bottom: 0.4em;background-color: white;}#sk-container-id-2 div.sk-label label {font-family: monospace;font-weight: bold;display: inline-block;line-height: 1.2em;}#sk-container-id-2 div.sk-label-container {text-align: center;}#sk-container-id-2 div.sk-container {/* jupyter's `normalize.less` sets `[hidden] { display: none; }` but bootstrap.min.css set `[hidden] { display: none !important; }` so we also need the `!important` here to be able to override the default hidden behavior on the sphinx rendered scikit-learn.org. See: https://github.com/scikit-learn/scikit-learn/issues/21755 */display: inline-block !important;position: relative;}#sk-container-id-2 div.sk-text-repr-fallback {display: none;}</style><div id=\"sk-container-id-2\" class=\"sk-top-container\"><div class=\"sk-text-repr-fallback\"><pre>RandomForestClassifier()</pre><b>In a Jupyter environment, please rerun this cell to show the HTML representation or trust the notebook. <br />On GitHub, the HTML representation is unable to render, please try loading this page with nbviewer.org.</b></div><div class=\"sk-container\" hidden><div class=\"sk-item\"><div class=\"sk-estimator sk-toggleable\"><input class=\"sk-toggleable__control sk-hidden--visually\" id=\"sk-estimator-id-2\" type=\"checkbox\" checked><label for=\"sk-estimator-id-2\" class=\"sk-toggleable__label sk-toggleable__label-arrow\">RandomForestClassifier</label><div class=\"sk-toggleable__content\"><pre>RandomForestClassifier()</pre></div></div></div></div></div>"
            ],
            "text/plain": [
              "RandomForestClassifier()"
            ]
          },
          "execution_count": 20,
          "metadata": {},
          "output_type": "execute_result"
        }
      ],
      "source": [
        "model.fit(X_train, y_train)"
      ]
    },
    {
      "cell_type": "markdown",
      "metadata": {
        "id": "r6o-KybB_ppu"
      },
      "source": [
        "## Predict and Results"
      ]
    },
    {
      "cell_type": "code",
      "execution_count": 21,
      "metadata": {
        "id": "sc1cYLbBATFD"
      },
      "outputs": [],
      "source": [
        "import numpy as np\n",
        "\n",
        "import pandas as pd\n",
        "\n",
        "from sklearn.ensemble import RandomForestClassifier\n",
        "from sklearn.metrics import accuracy_score, precision_score, recall_score, f1_score, roc_auc_score, roc_curve\n",
        "\n",
        "import matplotlib.pyplot as plt"
      ]
    },
    {
      "cell_type": "code",
      "execution_count": 22,
      "metadata": {
        "id": "VW1MJMqyAJRh"
      },
      "outputs": [],
      "source": [
        "# Predict on the test set\n",
        "y_pred = model.predict(X_test)\n",
        "# y_pred_proba = model.predict_proba(X_test) if hasattr(model, \"predict_proba\") else None"
      ]
    },
    {
      "cell_type": "code",
      "execution_count": 23,
      "metadata": {
        "colab": {
          "base_uri": "https://localhost:8080/",
          "height": 81
        },
        "id": "qmehwWCd_sgB",
        "outputId": "b2adf28c-5d6d-4a52-e7ab-722f307427ce"
      },
      "outputs": [
        {
          "data": {
            "text/html": [
              "<style type=\"text/css\">\n",
              "#T_7e897 th:nth-child(1) {\n",
              "  background-color: hsl(0, 100%, 80%);\n",
              "  font-weight: bold;\n",
              "  color: grey;\n",
              "  text-align: center;\n",
              "}\n",
              "#T_7e897  td:nth-child(1) {\n",
              "  background-color: hsl(0, 100%, 80%);\n",
              "  font-weight: bold;\n",
              "  color: grey;\n",
              "  text-align: center;\n",
              "}\n",
              "#T_7e897 th:nth-child(2) {\n",
              "  background-color: hsl(45, 100%, 80%);\n",
              "  font-weight: bold;\n",
              "  color: grey;\n",
              "  text-align: center;\n",
              "}\n",
              "#T_7e897  td:nth-child(2) {\n",
              "  background-color: hsl(45, 100%, 80%);\n",
              "  font-weight: bold;\n",
              "  color: grey;\n",
              "  text-align: center;\n",
              "}\n",
              "#T_7e897 th:nth-child(3) {\n",
              "  background-color: hsl(90, 100%, 80%);\n",
              "  font-weight: bold;\n",
              "  color: grey;\n",
              "  text-align: center;\n",
              "}\n",
              "#T_7e897  td:nth-child(3) {\n",
              "  background-color: hsl(90, 100%, 80%);\n",
              "  font-weight: bold;\n",
              "  color: grey;\n",
              "  text-align: center;\n",
              "}\n",
              "#T_7e897 th:nth-child(4) {\n",
              "  background-color: hsl(135, 100%, 80%);\n",
              "  font-weight: bold;\n",
              "  color: grey;\n",
              "  text-align: center;\n",
              "}\n",
              "#T_7e897  td:nth-child(4) {\n",
              "  background-color: hsl(135, 100%, 80%);\n",
              "  font-weight: bold;\n",
              "  color: grey;\n",
              "  text-align: center;\n",
              "}\n",
              "#T_7e897 th:nth-child(5) {\n",
              "  background-color: hsl(180, 100%, 80%);\n",
              "  font-weight: bold;\n",
              "  color: grey;\n",
              "  text-align: center;\n",
              "}\n",
              "#T_7e897  td:nth-child(5) {\n",
              "  background-color: hsl(180, 100%, 80%);\n",
              "  font-weight: bold;\n",
              "  color: grey;\n",
              "  text-align: center;\n",
              "}\n",
              "</style>\n",
              "<table id=\"T_7e897\" class=\"dataframe\">\n",
              "  <thead>\n",
              "    <tr>\n",
              "      <th class=\"blank level0\" >&nbsp;</th>\n",
              "      <th id=\"T_7e897_level0_col0\" class=\"col_heading level0 col0\" >Model</th>\n",
              "      <th id=\"T_7e897_level0_col1\" class=\"col_heading level0 col1\" >Accuracy</th>\n",
              "      <th id=\"T_7e897_level0_col2\" class=\"col_heading level0 col2\" >Precision</th>\n",
              "      <th id=\"T_7e897_level0_col3\" class=\"col_heading level0 col3\" >Recall</th>\n",
              "      <th id=\"T_7e897_level0_col4\" class=\"col_heading level0 col4\" >F1 Score</th>\n",
              "    </tr>\n",
              "  </thead>\n",
              "  <tbody>\n",
              "    <tr>\n",
              "      <th id=\"T_7e897_level0_row0\" class=\"row_heading level0 row0\" >0</th>\n",
              "      <td id=\"T_7e897_row0_col0\" class=\"data row0 col0\" >Random Forest</td>\n",
              "      <td id=\"T_7e897_row0_col1\" class=\"data row0 col1\" >0.466900</td>\n",
              "      <td id=\"T_7e897_row0_col2\" class=\"data row0 col2\" >0.463011</td>\n",
              "      <td id=\"T_7e897_row0_col3\" class=\"data row0 col3\" >0.466900</td>\n",
              "      <td id=\"T_7e897_row0_col4\" class=\"data row0 col4\" >0.463418</td>\n",
              "    </tr>\n",
              "  </tbody>\n",
              "</table>\n"
            ],
            "text/plain": [
              "<pandas.io.formats.style.Styler at 0x7c9ed1be6f50>"
            ]
          },
          "execution_count": 23,
          "metadata": {},
          "output_type": "execute_result"
        }
      ],
      "source": [
        "# Calculate metrics\n",
        "accuracy = accuracy_score(y_test, y_pred)\n",
        "precision = precision_score(y_test, y_pred, average='macro')\n",
        "recall = recall_score(y_test, y_pred, average='macro')\n",
        "f1 = f1_score(y_test, y_pred, average='macro')\n",
        "\n",
        "# Save results to dictionary\n",
        "results_dict = { \"Model\": [], \"Accuracy\": [], \"Precision\": [], \"Recall\": [], \"F1 Score\": []}\n",
        "results_dict[\"Model\"].append(name)\n",
        "results_dict[\"Accuracy\"].append(accuracy)\n",
        "results_dict[\"Precision\"].append(precision)\n",
        "results_dict[\"Recall\"].append(recall)\n",
        "results_dict[\"F1 Score\"].append(f1)\n",
        "\n",
        "#Convert results to DataFrame\n",
        "results_df = pd.DataFrame(results_dict)\n",
        "# Define a custom style for each column\n",
        "styles = [\n",
        "    {'selector': f'th:nth-child({i + 1}), td:nth-child({i + 1})',\n",
        "     'props': [('background-color', f'hsl({i * 45}, 100%, 80%)'),\n",
        "               ('font-weight', 'bold'),\n",
        "               ('color', 'grey'),\n",
        "               ('text-align', 'center')]} # Align text to center\n",
        "    for i in range(len(results_df.columns))\n",
        "]\n",
        "\n",
        "# Apply the styles\n",
        "styled_results = results_df.style.set_table_styles(styles)\n",
        "styled_results"
      ]
    }
  ],
  "metadata": {
    "colab": {
      "provenance": []
    },
    "kernelspec": {
      "display_name": "Python 3",
      "name": "python3"
    },
    "language_info": {
      "name": "python",
      "version": "3.11.3"
    }
  },
  "nbformat": 4,
  "nbformat_minor": 0
}
