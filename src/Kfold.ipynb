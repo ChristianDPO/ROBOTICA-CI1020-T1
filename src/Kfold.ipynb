{
  "nbformat": 4,
  "nbformat_minor": 0,
  "metadata": {
    "colab": {
      "provenance": []
    },
    "kernelspec": {
      "name": "python3",
      "display_name": "Python 3"
    },
    "language_info": {
      "name": "python"
    }
  },
  "cells": [
    {
      "cell_type": "markdown",
      "source": [
        "## Load CIFAR-10"
      ],
      "metadata": {
        "id": "lVvy-8h78Gsw"
      }
    },
    {
      "cell_type": "code",
      "source": [
        "from keras.datasets import cifar10\n",
        "\n",
        "# Load the CIFAR-10 dataset\n",
        "(X_train_original, y_train_original), (X_test_original, y_test_original) = cifar10.load_data()"
      ],
      "metadata": {
        "id": "_8XqcEhfvPKT"
      },
      "execution_count": null,
      "outputs": []
    },
    {
      "cell_type": "code",
      "source": [
        "import numpy as np\n",
        "X = np.concatenate( (X_train_original, X_test_original) )\n",
        "y = np.concatenate( (y_train_original, y_test_original) )\n"
      ],
      "metadata": {
        "id": "iLI-pZBXKlZl"
      },
      "execution_count": null,
      "outputs": []
    },
    {
      "cell_type": "code",
      "source": [
        "print(X.shape)\n",
        "print(y.shape)"
      ],
      "metadata": {
        "colab": {
          "base_uri": "https://localhost:8080/"
        },
        "id": "XjAkCJKLX4gO",
        "outputId": "bd644641-3e6a-4cd1-d16e-5bc8cc7c34ce"
      },
      "execution_count": null,
      "outputs": [
        {
          "output_type": "stream",
          "name": "stdout",
          "text": [
            "(60000, 32, 32, 3)\n",
            "(60000, 1)\n"
          ]
        }
      ]
    },
    {
      "cell_type": "markdown",
      "source": [
        "## Reshape and normalize data"
      ],
      "metadata": {
        "id": "XcWc7JY67bZc"
      }
    },
    {
      "cell_type": "code",
      "source": [
        "# Reshape images into 1D array\n",
        "X = X.reshape(X.shape[0], -1)\n",
        "\n",
        "# Normalize pixel values\n",
        "X = X.astype('float32') / 255.0"
      ],
      "metadata": {
        "id": "xuz5xiAS8F3b"
      },
      "execution_count": null,
      "outputs": []
    },
    {
      "cell_type": "code",
      "source": [
        "print(X.shape)\n",
        "print(y.shape)"
      ],
      "metadata": {
        "colab": {
          "base_uri": "https://localhost:8080/"
        },
        "id": "dipqHXfgX9rY",
        "outputId": "a19cbd3f-30b8-41c1-eac8-a446c352c1b8"
      },
      "execution_count": null,
      "outputs": [
        {
          "output_type": "stream",
          "name": "stdout",
          "text": [
            "(60000, 3072)\n",
            "(60000, 1)\n"
          ]
        }
      ]
    },
    {
      "cell_type": "markdown",
      "source": [
        "## Run RandomForest Classifier (KFold with k = 6)\n",
        "\n"
      ],
      "metadata": {
        "id": "bMdUlink81Ap"
      }
    },
    {
      "cell_type": "code",
      "source": [
        "from sklearn.model_selection import KFold\n",
        "from sklearn.ensemble import RandomForestClassifier\n",
        "from sklearn.metrics import accuracy_score, precision_score, recall_score, f1_score, roc_auc_score, roc_curve\n",
        "\n",
        "import warnings\n",
        "warnings.filterwarnings('ignore')\n",
        "\n",
        "k = 6\n",
        "kf = KFold(n_splits=k, random_state=None)"
      ],
      "metadata": {
        "id": "vF9HP7Ju-alN"
      },
      "execution_count": null,
      "outputs": []
    },
    {
      "cell_type": "code",
      "source": [
        "model = RandomForestClassifier()"
      ],
      "metadata": {
        "id": "Q3ZmAE7fSFmO"
      },
      "execution_count": null,
      "outputs": []
    },
    {
      "cell_type": "code",
      "source": [
        "result_list = []\n",
        "for i, (train_index, test_index) in enumerate(kf.split(X)):\n",
        "\n",
        "    X_train, X_test = X[train_index],X[test_index]\n",
        "    y_train, y_test = y[train_index], y[test_index]\n",
        "\n",
        "    # Fit\n",
        "    model.fit(X_train, y_train)\n",
        "\n",
        "    # Predict\n",
        "    y_pred = model.predict(X_test)\n",
        "\n",
        "    # Calculate results\n",
        "    name = f\"RandomForest: Fold {i}\"\n",
        "    accuracy = accuracy_score(y_test, y_pred)\n",
        "    precision = precision_score(y_test, y_pred, average='macro')\n",
        "    recall = recall_score(y_test, y_pred, average='macro')\n",
        "    f1 = f1_score(y_test, y_pred, average='macro')\n",
        "\n",
        "    # Save results\n",
        "    results_dict = { \"Model\": [], \"Accuracy\": [], \"Precision\": [], \"Recall\": [], \"F1 Score\": []}\n",
        "    results_dict[\"Model\"].append(name)\n",
        "    results_dict[\"Accuracy\"].append(accuracy)\n",
        "    results_dict[\"Precision\"].append(precision)\n",
        "    results_dict[\"Recall\"].append(recall)\n",
        "    results_dict[\"F1 Score\"].append(f1)\n",
        "\n",
        "    print(results_dict)\n",
        "    result_list.append(results_dict)\n",
        "\n"
      ],
      "metadata": {
        "colab": {
          "base_uri": "https://localhost:8080/"
        },
        "id": "OLVug9EyRFD2",
        "outputId": "2d630632-bc59-4b18-e024-d5464776716e"
      },
      "execution_count": null,
      "outputs": [
        {
          "output_type": "stream",
          "name": "stdout",
          "text": [
            "{'Model': ['RandomForest: Fold 0'], 'Accuracy': [0.4643], 'Precision': [0.4609922984727133], 'Recall': [0.4645967282555601], 'F1 Score': [0.4606448010102072]}\n",
            "{'Model': ['RandomForest: Fold 1'], 'Accuracy': [0.4605], 'Precision': [0.45733387772388595], 'Recall': [0.4608514885542446], 'F1 Score': [0.4575941166038608]}\n",
            "{'Model': ['RandomForest: Fold 2'], 'Accuracy': [0.4712], 'Precision': [0.4683299320206277], 'Recall': [0.47112239293191865], 'F1 Score': [0.4683088260775496]}\n",
            "{'Model': ['RandomForest: Fold 3'], 'Accuracy': [0.459], 'Precision': [0.45558460386091504], 'Recall': [0.45961065545768315], 'F1 Score': [0.4555661995335406]}\n",
            "{'Model': ['RandomForest: Fold 4'], 'Accuracy': [0.4663], 'Precision': [0.4621757135927703], 'Recall': [0.4657346208939167], 'F1 Score': [0.46217910819004204]}\n",
            "{'Model': ['RandomForest: Fold 5'], 'Accuracy': [0.4697], 'Precision': [0.4654767029706278], 'Recall': [0.4697000000000001], 'F1 Score': [0.4660359029791706]}\n"
          ]
        }
      ]
    },
    {
      "cell_type": "markdown",
      "source": [
        "#Display Results\n"
      ],
      "metadata": {
        "id": "m3eU9-Cvu1_N"
      }
    },
    {
      "cell_type": "code",
      "source": [
        "import pandas as pd\n",
        "\n",
        "results_dict = { \"Model\": [], \"Accuracy\": [], \"Precision\": [], \"Recall\": [], \"F1 Score\": []}\n",
        "\n",
        "for result in result_list:\n",
        "  results_dict[\"Model\"].append(result[\"Model\"][0])\n",
        "  results_dict[\"Accuracy\"].append(result[\"Accuracy\"][0])\n",
        "  results_dict[\"Precision\"].append(result[\"Precision\"][0])\n",
        "  results_dict[\"Recall\"].append(result[\"Recall\"][0])\n",
        "  results_dict[\"F1 Score\"].append(result[\"F1 Score\"][0])\n",
        "\n",
        "result_final = pd.DataFrame.from_dict(results_dict)\n",
        "result_final"
      ],
      "metadata": {
        "colab": {
          "base_uri": "https://localhost:8080/",
          "height": 238
        },
        "id": "HXIMu2kru5Sb",
        "outputId": "364964f7-0b4c-4033-b163-5f7be1d5dbf3"
      },
      "execution_count": null,
      "outputs": [
        {
          "output_type": "execute_result",
          "data": {
            "text/plain": [
              "                  Model  Accuracy  Precision    Recall  F1 Score\n",
              "0  RandomForest: Fold 0    0.4643   0.460992  0.464597  0.460645\n",
              "1  RandomForest: Fold 1    0.4605   0.457334  0.460851  0.457594\n",
              "2  RandomForest: Fold 2    0.4712   0.468330  0.471122  0.468309\n",
              "3  RandomForest: Fold 3    0.4590   0.455585  0.459611  0.455566\n",
              "4  RandomForest: Fold 4    0.4663   0.462176  0.465735  0.462179\n",
              "5  RandomForest: Fold 5    0.4697   0.465477  0.469700  0.466036"
            ],
            "text/html": [
              "\n",
              "  <div id=\"df-a70cbb12-e441-4951-8fd8-6a73fc9407c4\" class=\"colab-df-container\">\n",
              "    <div>\n",
              "<style scoped>\n",
              "    .dataframe tbody tr th:only-of-type {\n",
              "        vertical-align: middle;\n",
              "    }\n",
              "\n",
              "    .dataframe tbody tr th {\n",
              "        vertical-align: top;\n",
              "    }\n",
              "\n",
              "    .dataframe thead th {\n",
              "        text-align: right;\n",
              "    }\n",
              "</style>\n",
              "<table border=\"1\" class=\"dataframe\">\n",
              "  <thead>\n",
              "    <tr style=\"text-align: right;\">\n",
              "      <th></th>\n",
              "      <th>Model</th>\n",
              "      <th>Accuracy</th>\n",
              "      <th>Precision</th>\n",
              "      <th>Recall</th>\n",
              "      <th>F1 Score</th>\n",
              "    </tr>\n",
              "  </thead>\n",
              "  <tbody>\n",
              "    <tr>\n",
              "      <th>0</th>\n",
              "      <td>RandomForest: Fold 0</td>\n",
              "      <td>0.4643</td>\n",
              "      <td>0.460992</td>\n",
              "      <td>0.464597</td>\n",
              "      <td>0.460645</td>\n",
              "    </tr>\n",
              "    <tr>\n",
              "      <th>1</th>\n",
              "      <td>RandomForest: Fold 1</td>\n",
              "      <td>0.4605</td>\n",
              "      <td>0.457334</td>\n",
              "      <td>0.460851</td>\n",
              "      <td>0.457594</td>\n",
              "    </tr>\n",
              "    <tr>\n",
              "      <th>2</th>\n",
              "      <td>RandomForest: Fold 2</td>\n",
              "      <td>0.4712</td>\n",
              "      <td>0.468330</td>\n",
              "      <td>0.471122</td>\n",
              "      <td>0.468309</td>\n",
              "    </tr>\n",
              "    <tr>\n",
              "      <th>3</th>\n",
              "      <td>RandomForest: Fold 3</td>\n",
              "      <td>0.4590</td>\n",
              "      <td>0.455585</td>\n",
              "      <td>0.459611</td>\n",
              "      <td>0.455566</td>\n",
              "    </tr>\n",
              "    <tr>\n",
              "      <th>4</th>\n",
              "      <td>RandomForest: Fold 4</td>\n",
              "      <td>0.4663</td>\n",
              "      <td>0.462176</td>\n",
              "      <td>0.465735</td>\n",
              "      <td>0.462179</td>\n",
              "    </tr>\n",
              "    <tr>\n",
              "      <th>5</th>\n",
              "      <td>RandomForest: Fold 5</td>\n",
              "      <td>0.4697</td>\n",
              "      <td>0.465477</td>\n",
              "      <td>0.469700</td>\n",
              "      <td>0.466036</td>\n",
              "    </tr>\n",
              "  </tbody>\n",
              "</table>\n",
              "</div>\n",
              "    <div class=\"colab-df-buttons\">\n",
              "\n",
              "  <div class=\"colab-df-container\">\n",
              "    <button class=\"colab-df-convert\" onclick=\"convertToInteractive('df-a70cbb12-e441-4951-8fd8-6a73fc9407c4')\"\n",
              "            title=\"Convert this dataframe to an interactive table.\"\n",
              "            style=\"display:none;\">\n",
              "\n",
              "  <svg xmlns=\"http://www.w3.org/2000/svg\" height=\"24px\" viewBox=\"0 -960 960 960\">\n",
              "    <path d=\"M120-120v-720h720v720H120Zm60-500h600v-160H180v160Zm220 220h160v-160H400v160Zm0 220h160v-160H400v160ZM180-400h160v-160H180v160Zm440 0h160v-160H620v160ZM180-180h160v-160H180v160Zm440 0h160v-160H620v160Z\"/>\n",
              "  </svg>\n",
              "    </button>\n",
              "\n",
              "  <style>\n",
              "    .colab-df-container {\n",
              "      display:flex;\n",
              "      gap: 12px;\n",
              "    }\n",
              "\n",
              "    .colab-df-convert {\n",
              "      background-color: #E8F0FE;\n",
              "      border: none;\n",
              "      border-radius: 50%;\n",
              "      cursor: pointer;\n",
              "      display: none;\n",
              "      fill: #1967D2;\n",
              "      height: 32px;\n",
              "      padding: 0 0 0 0;\n",
              "      width: 32px;\n",
              "    }\n",
              "\n",
              "    .colab-df-convert:hover {\n",
              "      background-color: #E2EBFA;\n",
              "      box-shadow: 0px 1px 2px rgba(60, 64, 67, 0.3), 0px 1px 3px 1px rgba(60, 64, 67, 0.15);\n",
              "      fill: #174EA6;\n",
              "    }\n",
              "\n",
              "    .colab-df-buttons div {\n",
              "      margin-bottom: 4px;\n",
              "    }\n",
              "\n",
              "    [theme=dark] .colab-df-convert {\n",
              "      background-color: #3B4455;\n",
              "      fill: #D2E3FC;\n",
              "    }\n",
              "\n",
              "    [theme=dark] .colab-df-convert:hover {\n",
              "      background-color: #434B5C;\n",
              "      box-shadow: 0px 1px 3px 1px rgba(0, 0, 0, 0.15);\n",
              "      filter: drop-shadow(0px 1px 2px rgba(0, 0, 0, 0.3));\n",
              "      fill: #FFFFFF;\n",
              "    }\n",
              "  </style>\n",
              "\n",
              "    <script>\n",
              "      const buttonEl =\n",
              "        document.querySelector('#df-a70cbb12-e441-4951-8fd8-6a73fc9407c4 button.colab-df-convert');\n",
              "      buttonEl.style.display =\n",
              "        google.colab.kernel.accessAllowed ? 'block' : 'none';\n",
              "\n",
              "      async function convertToInteractive(key) {\n",
              "        const element = document.querySelector('#df-a70cbb12-e441-4951-8fd8-6a73fc9407c4');\n",
              "        const dataTable =\n",
              "          await google.colab.kernel.invokeFunction('convertToInteractive',\n",
              "                                                    [key], {});\n",
              "        if (!dataTable) return;\n",
              "\n",
              "        const docLinkHtml = 'Like what you see? Visit the ' +\n",
              "          '<a target=\"_blank\" href=https://colab.research.google.com/notebooks/data_table.ipynb>data table notebook</a>'\n",
              "          + ' to learn more about interactive tables.';\n",
              "        element.innerHTML = '';\n",
              "        dataTable['output_type'] = 'display_data';\n",
              "        await google.colab.output.renderOutput(dataTable, element);\n",
              "        const docLink = document.createElement('div');\n",
              "        docLink.innerHTML = docLinkHtml;\n",
              "        element.appendChild(docLink);\n",
              "      }\n",
              "    </script>\n",
              "  </div>\n",
              "\n",
              "\n",
              "<div id=\"df-887a6c46-c413-4cd6-81ce-6abe8eeff440\">\n",
              "  <button class=\"colab-df-quickchart\" onclick=\"quickchart('df-887a6c46-c413-4cd6-81ce-6abe8eeff440')\"\n",
              "            title=\"Suggest charts.\"\n",
              "            style=\"display:none;\">\n",
              "\n",
              "<svg xmlns=\"http://www.w3.org/2000/svg\" height=\"24px\"viewBox=\"0 0 24 24\"\n",
              "     width=\"24px\">\n",
              "    <g>\n",
              "        <path d=\"M19 3H5c-1.1 0-2 .9-2 2v14c0 1.1.9 2 2 2h14c1.1 0 2-.9 2-2V5c0-1.1-.9-2-2-2zM9 17H7v-7h2v7zm4 0h-2V7h2v10zm4 0h-2v-4h2v4z\"/>\n",
              "    </g>\n",
              "</svg>\n",
              "  </button>\n",
              "\n",
              "<style>\n",
              "  .colab-df-quickchart {\n",
              "      --bg-color: #E8F0FE;\n",
              "      --fill-color: #1967D2;\n",
              "      --hover-bg-color: #E2EBFA;\n",
              "      --hover-fill-color: #174EA6;\n",
              "      --disabled-fill-color: #AAA;\n",
              "      --disabled-bg-color: #DDD;\n",
              "  }\n",
              "\n",
              "  [theme=dark] .colab-df-quickchart {\n",
              "      --bg-color: #3B4455;\n",
              "      --fill-color: #D2E3FC;\n",
              "      --hover-bg-color: #434B5C;\n",
              "      --hover-fill-color: #FFFFFF;\n",
              "      --disabled-bg-color: #3B4455;\n",
              "      --disabled-fill-color: #666;\n",
              "  }\n",
              "\n",
              "  .colab-df-quickchart {\n",
              "    background-color: var(--bg-color);\n",
              "    border: none;\n",
              "    border-radius: 50%;\n",
              "    cursor: pointer;\n",
              "    display: none;\n",
              "    fill: var(--fill-color);\n",
              "    height: 32px;\n",
              "    padding: 0;\n",
              "    width: 32px;\n",
              "  }\n",
              "\n",
              "  .colab-df-quickchart:hover {\n",
              "    background-color: var(--hover-bg-color);\n",
              "    box-shadow: 0 1px 2px rgba(60, 64, 67, 0.3), 0 1px 3px 1px rgba(60, 64, 67, 0.15);\n",
              "    fill: var(--button-hover-fill-color);\n",
              "  }\n",
              "\n",
              "  .colab-df-quickchart-complete:disabled,\n",
              "  .colab-df-quickchart-complete:disabled:hover {\n",
              "    background-color: var(--disabled-bg-color);\n",
              "    fill: var(--disabled-fill-color);\n",
              "    box-shadow: none;\n",
              "  }\n",
              "\n",
              "  .colab-df-spinner {\n",
              "    border: 2px solid var(--fill-color);\n",
              "    border-color: transparent;\n",
              "    border-bottom-color: var(--fill-color);\n",
              "    animation:\n",
              "      spin 1s steps(1) infinite;\n",
              "  }\n",
              "\n",
              "  @keyframes spin {\n",
              "    0% {\n",
              "      border-color: transparent;\n",
              "      border-bottom-color: var(--fill-color);\n",
              "      border-left-color: var(--fill-color);\n",
              "    }\n",
              "    20% {\n",
              "      border-color: transparent;\n",
              "      border-left-color: var(--fill-color);\n",
              "      border-top-color: var(--fill-color);\n",
              "    }\n",
              "    30% {\n",
              "      border-color: transparent;\n",
              "      border-left-color: var(--fill-color);\n",
              "      border-top-color: var(--fill-color);\n",
              "      border-right-color: var(--fill-color);\n",
              "    }\n",
              "    40% {\n",
              "      border-color: transparent;\n",
              "      border-right-color: var(--fill-color);\n",
              "      border-top-color: var(--fill-color);\n",
              "    }\n",
              "    60% {\n",
              "      border-color: transparent;\n",
              "      border-right-color: var(--fill-color);\n",
              "    }\n",
              "    80% {\n",
              "      border-color: transparent;\n",
              "      border-right-color: var(--fill-color);\n",
              "      border-bottom-color: var(--fill-color);\n",
              "    }\n",
              "    90% {\n",
              "      border-color: transparent;\n",
              "      border-bottom-color: var(--fill-color);\n",
              "    }\n",
              "  }\n",
              "</style>\n",
              "\n",
              "  <script>\n",
              "    async function quickchart(key) {\n",
              "      const quickchartButtonEl =\n",
              "        document.querySelector('#' + key + ' button');\n",
              "      quickchartButtonEl.disabled = true;  // To prevent multiple clicks.\n",
              "      quickchartButtonEl.classList.add('colab-df-spinner');\n",
              "      try {\n",
              "        const charts = await google.colab.kernel.invokeFunction(\n",
              "            'suggestCharts', [key], {});\n",
              "      } catch (error) {\n",
              "        console.error('Error during call to suggestCharts:', error);\n",
              "      }\n",
              "      quickchartButtonEl.classList.remove('colab-df-spinner');\n",
              "      quickchartButtonEl.classList.add('colab-df-quickchart-complete');\n",
              "    }\n",
              "    (() => {\n",
              "      let quickchartButtonEl =\n",
              "        document.querySelector('#df-887a6c46-c413-4cd6-81ce-6abe8eeff440 button');\n",
              "      quickchartButtonEl.style.display =\n",
              "        google.colab.kernel.accessAllowed ? 'block' : 'none';\n",
              "    })();\n",
              "  </script>\n",
              "</div>\n",
              "    </div>\n",
              "  </div>\n"
            ]
          },
          "metadata": {},
          "execution_count": 61
        }
      ]
    }
  ]
}